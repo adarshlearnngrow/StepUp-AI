{
  "nbformat": 4,
  "nbformat_minor": 0,
  "metadata": {
    "colab": {
      "provenance": [],
      "include_colab_link": true
    },
    "kernelspec": {
      "name": "python3",
      "display_name": "Python 3"
    },
    "language_info": {
      "name": "python"
    }
  },
  "cells": [
    {
      "cell_type": "markdown",
      "metadata": {
        "id": "view-in-github",
        "colab_type": "text"
      },
      "source": [
        "<a href=\"https://colab.research.google.com/github/adarshlearnngrow/StepUp-AI/blob/Base-commit/AI_Hackthon.ipynb\" target=\"_parent\"><img src=\"https://colab.research.google.com/assets/colab-badge.svg\" alt=\"Open In Colab\"/></a>"
      ]
    },
    {
      "cell_type": "code",
      "source": [],
      "metadata": {
        "id": "Oqo6OdAeHYci"
      },
      "execution_count": 13,
      "outputs": []
    },
    {
      "cell_type": "code",
      "source": [
        "from google.colab import files\n",
        "\n",
        "uploaded = files.upload()\n",
        "\n",
        "for fn in uploaded.keys():\n",
        "  print('User uploaded file \"{name}\" with length {length} bytes'.format(\n",
        "      name=fn, length=len(uploaded[fn])))\n",
        "\n",
        "# Then move kaggle.json into the folder where the API expects to find it.\n",
        "!mkdir -p ~/.kaggle/ && mv kaggle.json ~/.kaggle/ && chmod 600 ~/.kaggle/kaggle.json"
      ],
      "metadata": {
        "colab": {
          "base_uri": "https://localhost:8080/",
          "height": 108
        },
        "id": "oJECYYynHlM1",
        "outputId": "e403fbff-fbdc-47e9-badb-00b2018024b8"
      },
      "execution_count": 19,
      "outputs": [
        {
          "output_type": "display_data",
          "data": {
            "text/plain": [
              "<IPython.core.display.HTML object>"
            ],
            "text/html": [
              "\n",
              "     <input type=\"file\" id=\"files-d862d33f-2844-4d1f-8aa1-894315754a9d\" name=\"files[]\" multiple disabled\n",
              "        style=\"border:none\" />\n",
              "     <output id=\"result-d862d33f-2844-4d1f-8aa1-894315754a9d\">\n",
              "      Upload widget is only available when the cell has been executed in the\n",
              "      current browser session. Please rerun this cell to enable.\n",
              "      </output>\n",
              "      <script>// Copyright 2017 Google LLC\n",
              "//\n",
              "// Licensed under the Apache License, Version 2.0 (the \"License\");\n",
              "// you may not use this file except in compliance with the License.\n",
              "// You may obtain a copy of the License at\n",
              "//\n",
              "//      http://www.apache.org/licenses/LICENSE-2.0\n",
              "//\n",
              "// Unless required by applicable law or agreed to in writing, software\n",
              "// distributed under the License is distributed on an \"AS IS\" BASIS,\n",
              "// WITHOUT WARRANTIES OR CONDITIONS OF ANY KIND, either express or implied.\n",
              "// See the License for the specific language governing permissions and\n",
              "// limitations under the License.\n",
              "\n",
              "/**\n",
              " * @fileoverview Helpers for google.colab Python module.\n",
              " */\n",
              "(function(scope) {\n",
              "function span(text, styleAttributes = {}) {\n",
              "  const element = document.createElement('span');\n",
              "  element.textContent = text;\n",
              "  for (const key of Object.keys(styleAttributes)) {\n",
              "    element.style[key] = styleAttributes[key];\n",
              "  }\n",
              "  return element;\n",
              "}\n",
              "\n",
              "// Max number of bytes which will be uploaded at a time.\n",
              "const MAX_PAYLOAD_SIZE = 100 * 1024;\n",
              "\n",
              "function _uploadFiles(inputId, outputId) {\n",
              "  const steps = uploadFilesStep(inputId, outputId);\n",
              "  const outputElement = document.getElementById(outputId);\n",
              "  // Cache steps on the outputElement to make it available for the next call\n",
              "  // to uploadFilesContinue from Python.\n",
              "  outputElement.steps = steps;\n",
              "\n",
              "  return _uploadFilesContinue(outputId);\n",
              "}\n",
              "\n",
              "// This is roughly an async generator (not supported in the browser yet),\n",
              "// where there are multiple asynchronous steps and the Python side is going\n",
              "// to poll for completion of each step.\n",
              "// This uses a Promise to block the python side on completion of each step,\n",
              "// then passes the result of the previous step as the input to the next step.\n",
              "function _uploadFilesContinue(outputId) {\n",
              "  const outputElement = document.getElementById(outputId);\n",
              "  const steps = outputElement.steps;\n",
              "\n",
              "  const next = steps.next(outputElement.lastPromiseValue);\n",
              "  return Promise.resolve(next.value.promise).then((value) => {\n",
              "    // Cache the last promise value to make it available to the next\n",
              "    // step of the generator.\n",
              "    outputElement.lastPromiseValue = value;\n",
              "    return next.value.response;\n",
              "  });\n",
              "}\n",
              "\n",
              "/**\n",
              " * Generator function which is called between each async step of the upload\n",
              " * process.\n",
              " * @param {string} inputId Element ID of the input file picker element.\n",
              " * @param {string} outputId Element ID of the output display.\n",
              " * @return {!Iterable<!Object>} Iterable of next steps.\n",
              " */\n",
              "function* uploadFilesStep(inputId, outputId) {\n",
              "  const inputElement = document.getElementById(inputId);\n",
              "  inputElement.disabled = false;\n",
              "\n",
              "  const outputElement = document.getElementById(outputId);\n",
              "  outputElement.innerHTML = '';\n",
              "\n",
              "  const pickedPromise = new Promise((resolve) => {\n",
              "    inputElement.addEventListener('change', (e) => {\n",
              "      resolve(e.target.files);\n",
              "    });\n",
              "  });\n",
              "\n",
              "  const cancel = document.createElement('button');\n",
              "  inputElement.parentElement.appendChild(cancel);\n",
              "  cancel.textContent = 'Cancel upload';\n",
              "  const cancelPromise = new Promise((resolve) => {\n",
              "    cancel.onclick = () => {\n",
              "      resolve(null);\n",
              "    };\n",
              "  });\n",
              "\n",
              "  // Wait for the user to pick the files.\n",
              "  const files = yield {\n",
              "    promise: Promise.race([pickedPromise, cancelPromise]),\n",
              "    response: {\n",
              "      action: 'starting',\n",
              "    }\n",
              "  };\n",
              "\n",
              "  cancel.remove();\n",
              "\n",
              "  // Disable the input element since further picks are not allowed.\n",
              "  inputElement.disabled = true;\n",
              "\n",
              "  if (!files) {\n",
              "    return {\n",
              "      response: {\n",
              "        action: 'complete',\n",
              "      }\n",
              "    };\n",
              "  }\n",
              "\n",
              "  for (const file of files) {\n",
              "    const li = document.createElement('li');\n",
              "    li.append(span(file.name, {fontWeight: 'bold'}));\n",
              "    li.append(span(\n",
              "        `(${file.type || 'n/a'}) - ${file.size} bytes, ` +\n",
              "        `last modified: ${\n",
              "            file.lastModifiedDate ? file.lastModifiedDate.toLocaleDateString() :\n",
              "                                    'n/a'} - `));\n",
              "    const percent = span('0% done');\n",
              "    li.appendChild(percent);\n",
              "\n",
              "    outputElement.appendChild(li);\n",
              "\n",
              "    const fileDataPromise = new Promise((resolve) => {\n",
              "      const reader = new FileReader();\n",
              "      reader.onload = (e) => {\n",
              "        resolve(e.target.result);\n",
              "      };\n",
              "      reader.readAsArrayBuffer(file);\n",
              "    });\n",
              "    // Wait for the data to be ready.\n",
              "    let fileData = yield {\n",
              "      promise: fileDataPromise,\n",
              "      response: {\n",
              "        action: 'continue',\n",
              "      }\n",
              "    };\n",
              "\n",
              "    // Use a chunked sending to avoid message size limits. See b/62115660.\n",
              "    let position = 0;\n",
              "    do {\n",
              "      const length = Math.min(fileData.byteLength - position, MAX_PAYLOAD_SIZE);\n",
              "      const chunk = new Uint8Array(fileData, position, length);\n",
              "      position += length;\n",
              "\n",
              "      const base64 = btoa(String.fromCharCode.apply(null, chunk));\n",
              "      yield {\n",
              "        response: {\n",
              "          action: 'append',\n",
              "          file: file.name,\n",
              "          data: base64,\n",
              "        },\n",
              "      };\n",
              "\n",
              "      let percentDone = fileData.byteLength === 0 ?\n",
              "          100 :\n",
              "          Math.round((position / fileData.byteLength) * 100);\n",
              "      percent.textContent = `${percentDone}% done`;\n",
              "\n",
              "    } while (position < fileData.byteLength);\n",
              "  }\n",
              "\n",
              "  // All done.\n",
              "  yield {\n",
              "    response: {\n",
              "      action: 'complete',\n",
              "    }\n",
              "  };\n",
              "}\n",
              "\n",
              "scope.google = scope.google || {};\n",
              "scope.google.colab = scope.google.colab || {};\n",
              "scope.google.colab._files = {\n",
              "  _uploadFiles,\n",
              "  _uploadFilesContinue,\n",
              "};\n",
              "})(self);\n",
              "</script> "
            ]
          },
          "metadata": {}
        },
        {
          "output_type": "stream",
          "name": "stdout",
          "text": [
            "Saving JobsDatasetProcessed.csv to JobsDatasetProcessed (1).csv\n",
            "User uploaded file \"JobsDatasetProcessed (1).csv\" with length 13403035 bytes\n",
            "mv: cannot stat 'kaggle.json': No such file or directory\n"
          ]
        }
      ]
    },
    {
      "cell_type": "code",
      "source": [
        "jobs_desc = pd.read_csv(\"JobsDatasetProcessed.csv\")"
      ],
      "metadata": {
        "id": "NflCibVnIsN5"
      },
      "execution_count": 27,
      "outputs": []
    },
    {
      "cell_type": "code",
      "source": [
        "jobs_desc.info()"
      ],
      "metadata": {
        "colab": {
          "base_uri": "https://localhost:8080/"
        },
        "id": "IH4HgZtDKYOC",
        "outputId": "d1a681b2-2cbc-49ce-9daa-be0fcab55843"
      },
      "execution_count": 30,
      "outputs": [
        {
          "output_type": "stream",
          "name": "stdout",
          "text": [
            "<class 'pandas.core.frame.DataFrame'>\n",
            "RangeIndex: 3000 entries, 0 to 2999\n",
            "Data columns (total 9 columns):\n",
            " #   Column       Non-Null Count  Dtype \n",
            "---  ------       --------------  ----- \n",
            " 0   ID           3000 non-null   int64 \n",
            " 1   Query        3000 non-null   object\n",
            " 2   Job Title    3000 non-null   object\n",
            " 3   Description  3000 non-null   object\n",
            " 4   IT Skills    2990 non-null   object\n",
            " 5   Soft Skills  2978 non-null   object\n",
            " 6   Education    1563 non-null   object\n",
            " 7   Experience   1572 non-null   object\n",
            " 8   Token Usage  3000 non-null   int64 \n",
            "dtypes: int64(2), object(7)\n",
            "memory usage: 211.1+ KB\n"
          ]
        }
      ]
    },
    {
      "cell_type": "code",
      "source": [
        "jobs_desc['Query'].unique()"
      ],
      "metadata": {
        "colab": {
          "base_uri": "https://localhost:8080/"
        },
        "id": "qd6x5Q9yJ77T",
        "outputId": "940e8304-f493-4d89-9ffe-8b83e68ba19c"
      },
      "execution_count": 45,
      "outputs": [
        {
          "output_type": "execute_result",
          "data": {
            "text/plain": [
              "array(['Artificial Intelligence', 'Big Data Engineer', 'Business Analyst',\n",
              "       'Business Intelligence Analyst', 'Cloud Architect',\n",
              "       'Cloud Services Developer', 'Data Analyst', 'Data Architect',\n",
              "       'Data Engineer', 'Data Quality Manager', 'Data Scientist',\n",
              "       'Data Visualization Expert', 'Data Warehousing',\n",
              "       'Data and Analytics Manager', 'Database Administrator',\n",
              "       'Deep Learning', 'Full Stack Developer', 'IT Consultant',\n",
              "       'IT Systems Administrator', 'Information Security Analyst',\n",
              "       'Machine Learning', 'Network Architect', 'Statistics',\n",
              "       'Technical Operations', 'Technology Integration'], dtype=object)"
            ]
          },
          "metadata": {},
          "execution_count": 45
        }
      ]
    },
    {
      "cell_type": "code",
      "source": [
        "\n",
        "\n",
        "req_jobs_desc = jobs_desc.query(\"Query in ['Artificial Intelligence', 'Business Analyst', 'Business Intelligence Analyst', 'Data Analyst', 'Machine Learning']\")\n",
        "\n",
        "\n",
        "req_jobs_desc = req_jobs_desc[['Query', 'Description']]"
      ],
      "metadata": {
        "id": "Kb22sNbJJ73z"
      },
      "execution_count": 47,
      "outputs": []
    },
    {
      "cell_type": "markdown",
      "source": [],
      "metadata": {
        "id": "SDBhfAaeMkR0"
      }
    },
    {
      "cell_type": "markdown",
      "source": [],
      "metadata": {
        "id": "fbDaeJwgMkOa"
      }
    },
    {
      "cell_type": "code",
      "source": [
        "req_jobs_desc.info()"
      ],
      "metadata": {
        "colab": {
          "base_uri": "https://localhost:8080/"
        },
        "id": "kGeuBjkuJ7rg",
        "outputId": "d18b8509-6767-4f97-e12d-de28941ddec3"
      },
      "execution_count": 50,
      "outputs": [
        {
          "output_type": "stream",
          "name": "stdout",
          "text": [
            "<class 'pandas.core.frame.DataFrame'>\n",
            "Index: 600 entries, 0 to 2519\n",
            "Data columns (total 2 columns):\n",
            " #   Column       Non-Null Count  Dtype \n",
            "---  ------       --------------  ----- \n",
            " 0   Query        600 non-null    object\n",
            " 1   Description  600 non-null    object\n",
            "dtypes: object(2)\n",
            "memory usage: 14.1+ KB\n"
          ]
        }
      ]
    },
    {
      "cell_type": "code",
      "source": [
        "job_desc_json = req_jobs_desc.to_json(orient=\"records\")"
      ],
      "metadata": {
        "id": "huyawQJIJ7a3"
      },
      "execution_count": 53,
      "outputs": []
    },
    {
      "cell_type": "code",
      "source": [
        "import openai\n",
        "import json\n",
        "import time\n",
        "from openai import OpenAI\n",
        "from google.colab import userdata\n",
        "import pandas as pd\n",
        "import kagglehub\n",
        "pd.set_option('display.max_colwidth', None)"
      ],
      "metadata": {
        "id": "c6GD56XP3tDe"
      },
      "execution_count": 10,
      "outputs": []
    },
    {
      "cell_type": "code",
      "source": [
        "path = kagglehub.dataset_download(\"meerawks/it-skills-from-jobs\")\n",
        "\n",
        "print(\"Path to dataset files:\", path)"
      ],
      "metadata": {
        "colab": {
          "base_uri": "https://localhost:8080/"
        },
        "id": "Jx8TMkX4Gp2b",
        "outputId": "a52b715a-116a-429c-d06c-bd539aa413ec"
      },
      "execution_count": 11,
      "outputs": [
        {
          "output_type": "stream",
          "name": "stdout",
          "text": [
            "Downloading from https://www.kaggle.com/api/v1/datasets/download/meerawks/it-skills-from-jobs?dataset_version_number=1...\n"
          ]
        },
        {
          "output_type": "stream",
          "name": "stderr",
          "text": [
            "100%|██████████| 4.04M/4.04M [00:00<00:00, 133MB/s]"
          ]
        },
        {
          "output_type": "stream",
          "name": "stdout",
          "text": [
            "Extracting files...\n",
            "Path to dataset files: /root/.cache/kagglehub/datasets/meerawks/it-skills-from-jobs/versions/1\n"
          ]
        },
        {
          "output_type": "stream",
          "name": "stderr",
          "text": [
            "\n"
          ]
        }
      ]
    },
    {
      "cell_type": "code",
      "source": [
        "path"
      ],
      "metadata": {
        "colab": {
          "base_uri": "https://localhost:8080/",
          "height": 36
        },
        "id": "J2Lr079hG1SC",
        "outputId": "f9990e08-4463-4162-c247-273e76fb7b37"
      },
      "execution_count": 12,
      "outputs": [
        {
          "output_type": "execute_result",
          "data": {
            "text/plain": [
              "'/root/.cache/kagglehub/datasets/meerawks/it-skills-from-jobs/versions/1'"
            ],
            "application/vnd.google.colaboratory.intrinsic+json": {
              "type": "string"
            }
          },
          "metadata": {},
          "execution_count": 12
        }
      ]
    },
    {
      "cell_type": "code",
      "source": [
        "data = {'title': ['Data Scientist'], 'level': ['Data Scientist 1'], 'Description': [\"\"\"Primary Responsibilities\n",
        "\n",
        "Develop Data Models: Build, design, and prepare predictive and prescriptive data science models, tools, and databases using languages such as Python or R\n",
        "Data Analysis: Conduct and document actionable data analysis and research to identify trends and insights\n",
        "Forecasting: Prepare forecasts and analyze trends to support strategic decision-making\n",
        "Reporting: Provide detailed summaries, reports, and recommendations to assist managerial decision-making processes\n",
        "Collaboration: Communicate effectively with management, colleagues, and stakeholders to present findings and insights\n",
        "Data Visualization: Create compelling data visualizations to represent complex data in an understandable format\n",
        "\n",
        "You will be rewarded and recognized for your performance in an environment that will challenge you and give you clear directions on what it takes to succeed in your role, as well as providing development for other roles you may be interested in.\n",
        "\n",
        "Required Qualifications\n",
        "\n",
        "Currently pursuing or recently completed a degree in Data Science, Statistics, Computer Science, Mathematics, or a related field\n",
        "Proficiency with data science tools such as Python, R, SQL, Excel, and data visualization platforms like Tableau or Matplotlib\n",
        "Exposure to programming languages commonly used in data science (e.g., Python, R)\n",
        "\n",
        "Soft Skills\n",
        "\n",
        "Analytical and problem-solving skills with the ability to interpret complex data sets\n",
        "Verbal and written communication skills to convey insights and collaborate with team members\n",
        "\"\"\"]}"
      ],
      "metadata": {
        "id": "QwOoYZu89zMU"
      },
      "execution_count": null,
      "outputs": []
    },
    {
      "cell_type": "code",
      "source": [
        "pd.DataFrame(data)"
      ],
      "metadata": {
        "colab": {
          "base_uri": "https://localhost:8080/",
          "height": 219
        },
        "id": "pgSZYEbfBTb0",
        "outputId": "b7fc7105-7265-410d-9d5b-37967baad8f3"
      },
      "execution_count": null,
      "outputs": [
        {
          "output_type": "execute_result",
          "data": {
            "text/plain": [
              "            title             level  \\\n",
              "0  Data Scientist  Data Scientist 1   \n",
              "\n",
              "                                                                                                                                                                                                                                                                                                                                                                                                                                                                                                                                                                                                                                                                                                                                                                                                                                                                                                                                                                                                                                                                                                                                                                                                                                                                                                                                                                                                                                                                                                                                                                                                        Description  \n",
              "0  Primary Responsibilities\\n\\nDevelop Data Models: Build, design, and prepare predictive and prescriptive data science models, tools, and databases using languages such as Python or R \\nData Analysis: Conduct and document actionable data analysis and research to identify trends and insights \\nForecasting: Prepare forecasts and analyze trends to support strategic decision-making \\nReporting: Provide detailed summaries, reports, and recommendations to assist managerial decision-making processes \\nCollaboration: Communicate effectively with management, colleagues, and stakeholders to present findings and insights \\nData Visualization: Create compelling data visualizations to represent complex data in an understandable format \\n\\nYou will be rewarded and recognized for your performance in an environment that will challenge you and give you clear directions on what it takes to succeed in your role, as well as providing development for other roles you may be interested in.\\n\\nRequired Qualifications\\n\\nCurrently pursuing or recently completed a degree in Data Science, Statistics, Computer Science, Mathematics, or a related field\\nProficiency with data science tools such as Python, R, SQL, Excel, and data visualization platforms like Tableau or Matplotlib\\nExposure to programming languages commonly used in data science (e.g., Python, R) \\n\\nSoft Skills\\n\\nAnalytical and problem-solving skills with the ability to interpret complex data sets \\nVerbal and written communication skills to convey insights and collaborate with team members \\n  "
            ],
            "text/html": [
              "\n",
              "  <div id=\"df-7af387be-a0aa-436c-9c54-ceed8bb5458c\" class=\"colab-df-container\">\n",
              "    <div>\n",
              "<style scoped>\n",
              "    .dataframe tbody tr th:only-of-type {\n",
              "        vertical-align: middle;\n",
              "    }\n",
              "\n",
              "    .dataframe tbody tr th {\n",
              "        vertical-align: top;\n",
              "    }\n",
              "\n",
              "    .dataframe thead th {\n",
              "        text-align: right;\n",
              "    }\n",
              "</style>\n",
              "<table border=\"1\" class=\"dataframe\">\n",
              "  <thead>\n",
              "    <tr style=\"text-align: right;\">\n",
              "      <th></th>\n",
              "      <th>title</th>\n",
              "      <th>level</th>\n",
              "      <th>Description</th>\n",
              "    </tr>\n",
              "  </thead>\n",
              "  <tbody>\n",
              "    <tr>\n",
              "      <th>0</th>\n",
              "      <td>Data Scientist</td>\n",
              "      <td>Data Scientist 1</td>\n",
              "      <td>Primary Responsibilities\\n\\nDevelop Data Models: Build, design, and prepare predictive and prescriptive data science models, tools, and databases using languages such as Python or R \\nData Analysis: Conduct and document actionable data analysis and research to identify trends and insights \\nForecasting: Prepare forecasts and analyze trends to support strategic decision-making \\nReporting: Provide detailed summaries, reports, and recommendations to assist managerial decision-making processes \\nCollaboration: Communicate effectively with management, colleagues, and stakeholders to present findings and insights \\nData Visualization: Create compelling data visualizations to represent complex data in an understandable format \\n\\nYou will be rewarded and recognized for your performance in an environment that will challenge you and give you clear directions on what it takes to succeed in your role, as well as providing development for other roles you may be interested in.\\n\\nRequired Qualifications\\n\\nCurrently pursuing or recently completed a degree in Data Science, Statistics, Computer Science, Mathematics, or a related field\\nProficiency with data science tools such as Python, R, SQL, Excel, and data visualization platforms like Tableau or Matplotlib\\nExposure to programming languages commonly used in data science (e.g., Python, R) \\n\\nSoft Skills\\n\\nAnalytical and problem-solving skills with the ability to interpret complex data sets \\nVerbal and written communication skills to convey insights and collaborate with team members \\n</td>\n",
              "    </tr>\n",
              "  </tbody>\n",
              "</table>\n",
              "</div>\n",
              "    <div class=\"colab-df-buttons\">\n",
              "\n",
              "  <div class=\"colab-df-container\">\n",
              "    <button class=\"colab-df-convert\" onclick=\"convertToInteractive('df-7af387be-a0aa-436c-9c54-ceed8bb5458c')\"\n",
              "            title=\"Convert this dataframe to an interactive table.\"\n",
              "            style=\"display:none;\">\n",
              "\n",
              "  <svg xmlns=\"http://www.w3.org/2000/svg\" height=\"24px\" viewBox=\"0 -960 960 960\">\n",
              "    <path d=\"M120-120v-720h720v720H120Zm60-500h600v-160H180v160Zm220 220h160v-160H400v160Zm0 220h160v-160H400v160ZM180-400h160v-160H180v160Zm440 0h160v-160H620v160ZM180-180h160v-160H180v160Zm440 0h160v-160H620v160Z\"/>\n",
              "  </svg>\n",
              "    </button>\n",
              "\n",
              "  <style>\n",
              "    .colab-df-container {\n",
              "      display:flex;\n",
              "      gap: 12px;\n",
              "    }\n",
              "\n",
              "    .colab-df-convert {\n",
              "      background-color: #E8F0FE;\n",
              "      border: none;\n",
              "      border-radius: 50%;\n",
              "      cursor: pointer;\n",
              "      display: none;\n",
              "      fill: #1967D2;\n",
              "      height: 32px;\n",
              "      padding: 0 0 0 0;\n",
              "      width: 32px;\n",
              "    }\n",
              "\n",
              "    .colab-df-convert:hover {\n",
              "      background-color: #E2EBFA;\n",
              "      box-shadow: 0px 1px 2px rgba(60, 64, 67, 0.3), 0px 1px 3px 1px rgba(60, 64, 67, 0.15);\n",
              "      fill: #174EA6;\n",
              "    }\n",
              "\n",
              "    .colab-df-buttons div {\n",
              "      margin-bottom: 4px;\n",
              "    }\n",
              "\n",
              "    [theme=dark] .colab-df-convert {\n",
              "      background-color: #3B4455;\n",
              "      fill: #D2E3FC;\n",
              "    }\n",
              "\n",
              "    [theme=dark] .colab-df-convert:hover {\n",
              "      background-color: #434B5C;\n",
              "      box-shadow: 0px 1px 3px 1px rgba(0, 0, 0, 0.15);\n",
              "      filter: drop-shadow(0px 1px 2px rgba(0, 0, 0, 0.3));\n",
              "      fill: #FFFFFF;\n",
              "    }\n",
              "  </style>\n",
              "\n",
              "    <script>\n",
              "      const buttonEl =\n",
              "        document.querySelector('#df-7af387be-a0aa-436c-9c54-ceed8bb5458c button.colab-df-convert');\n",
              "      buttonEl.style.display =\n",
              "        google.colab.kernel.accessAllowed ? 'block' : 'none';\n",
              "\n",
              "      async function convertToInteractive(key) {\n",
              "        const element = document.querySelector('#df-7af387be-a0aa-436c-9c54-ceed8bb5458c');\n",
              "        const dataTable =\n",
              "          await google.colab.kernel.invokeFunction('convertToInteractive',\n",
              "                                                    [key], {});\n",
              "        if (!dataTable) return;\n",
              "\n",
              "        const docLinkHtml = 'Like what you see? Visit the ' +\n",
              "          '<a target=\"_blank\" href=https://colab.research.google.com/notebooks/data_table.ipynb>data table notebook</a>'\n",
              "          + ' to learn more about interactive tables.';\n",
              "        element.innerHTML = '';\n",
              "        dataTable['output_type'] = 'display_data';\n",
              "        await google.colab.output.renderOutput(dataTable, element);\n",
              "        const docLink = document.createElement('div');\n",
              "        docLink.innerHTML = docLinkHtml;\n",
              "        element.appendChild(docLink);\n",
              "      }\n",
              "    </script>\n",
              "  </div>\n",
              "\n",
              "\n",
              "    </div>\n",
              "  </div>\n"
            ],
            "application/vnd.google.colaboratory.intrinsic+json": {
              "type": "dataframe",
              "summary": "{\n  \"name\": \"pd\",\n  \"rows\": 1,\n  \"fields\": [\n    {\n      \"column\": \"title\",\n      \"properties\": {\n        \"dtype\": \"string\",\n        \"num_unique_values\": 1,\n        \"samples\": [\n          \"Data Scientist\"\n        ],\n        \"semantic_type\": \"\",\n        \"description\": \"\"\n      }\n    },\n    {\n      \"column\": \"level\",\n      \"properties\": {\n        \"dtype\": \"string\",\n        \"num_unique_values\": 1,\n        \"samples\": [\n          \"Data Scientist 1\"\n        ],\n        \"semantic_type\": \"\",\n        \"description\": \"\"\n      }\n    },\n    {\n      \"column\": \"Description\",\n      \"properties\": {\n        \"dtype\": \"string\",\n        \"num_unique_values\": 1,\n        \"samples\": [\n          \"Primary Responsibilities\\n\\nDevelop Data Models: Build, design, and prepare predictive and prescriptive data science models, tools, and databases using languages such as Python or R \\nData Analysis: Conduct and document actionable data analysis and research to identify trends and insights \\nForecasting: Prepare forecasts and analyze trends to support strategic decision-making \\nReporting: Provide detailed summaries, reports, and recommendations to assist managerial decision-making processes \\nCollaboration: Communicate effectively with management, colleagues, and stakeholders to present findings and insights \\nData Visualization: Create compelling data visualizations to represent complex data in an understandable format \\n\\nYou will be rewarded and recognized for your performance in an environment that will challenge you and give you clear directions on what it takes to succeed in your role, as well as providing development for other roles you may be interested in.\\n\\nRequired Qualifications\\n\\nCurrently pursuing or recently completed a degree in Data Science, Statistics, Computer Science, Mathematics, or a related field\\nProficiency with data science tools such as Python, R, SQL, Excel, and data visualization platforms like Tableau or Matplotlib\\nExposure to programming languages commonly used in data science (e.g., Python, R) \\n\\nSoft Skills\\n\\nAnalytical and problem-solving skills with the ability to interpret complex data sets \\nVerbal and written communication skills to convey insights and collaborate with team members \\n\"\n        ],\n        \"semantic_type\": \"\",\n        \"description\": \"\"\n      }\n    }\n  ]\n}"
            }
          },
          "metadata": {},
          "execution_count": 9
        }
      ]
    },
    {
      "cell_type": "code",
      "source": [
        "client = OpenAI(api_key=userdata.get(\"OPEN_AI_KEY\"))\n"
      ],
      "metadata": {
        "id": "96G8V6Ca4Ghq"
      },
      "execution_count": null,
      "outputs": []
    },
    {
      "cell_type": "code",
      "execution_count": null,
      "metadata": {
        "colab": {
          "base_uri": "https://localhost:8080/"
        },
        "id": "gtW5TnOW3kG3",
        "outputId": "6c1037b0-73c2-40e4-885f-e129924372a5"
      },
      "outputs": [
        {
          "output_type": "stream",
          "name": "stdout",
          "text": [
            "✅ Generated resume 1\n"
          ]
        }
      ],
      "source": [
        "def generate_student_resume(role: str, level: str = \"Entry-Level\"):\n",
        "    prompt = f\"\"\"\n",
        "You are generating a realistic student resume targeting the role: {role} ({level}).\n",
        "\n",
        "Format your output as valid JSON with the following structure:\n",
        "{{\n",
        "  \"name\": \"<Full Name>\",\n",
        "  \"education\": \"<Degree, University, Years>\",\n",
        "  \"work_experience\": [\n",
        "    {{\n",
        "      \"role\": \"<Internship or job title>\",\n",
        "      \"company\": \"<Realistic company name (can be a tech startup, research lab, NGO, etc.)>\",\n",
        "      \"duration\": \"<Start–End>\",\n",
        "      \"description\": \"<Brief but realistic description of responsibilities>\"\n",
        "    }},\n",
        "    {{\n",
        "      \"role\": \"<Optional second internship or research assistant role>\",\n",
        "      \"company\": \"<Another realistic organization or university department>\",\n",
        "      \"duration\": \"<Start–End>\",\n",
        "      \"description\": \"<Another realistic description>\"\n",
        "    }}\n",
        "  ],\n",
        "  \"personal_projects\": [\n",
        "    {{\n",
        "      \"title\": \"<Project 1: realistic, detailed, and unique (e.g. health app, recommendation engine, game, fintech tool)>\",\n",
        "      \"description\": \"<What it does, why it was built, and which tools/languages were used>\"\n",
        "    }},\n",
        "    {{\n",
        "      \"title\": \"<Project 2: unrelated to target job is okay>\",\n",
        "      \"description\": \"<Details and tech stack>\"\n",
        "    }}\n",
        "  ],\n",
        "  \"technical_skills\": [\"<Realistic tech skills: some aligned, some adjacent>\"],\n",
        "  \"soft_skills\": [\"<Soft skills like teamwork, leadership, communication, etc.>\"]\n",
        "}}\n",
        "\n",
        "Important guidelines:\n",
        "- Use **diverse and realistic names** (no more 'John Doe')\n",
        "- Use **plausible but not copyrighted company names** (e.g. tech startups, labs, NGOs, departments)\n",
        "- Use **varied and creative projects** — not all should be recommendation systems!\n",
        "- Projects can be from coursework, hackathons, personal exploration, or clubs\n",
        "- Leave **some skill gaps** compared to what a real job would require\n",
        "- Output must be **valid JSON**, no markdown, no explanation, no comments\n",
        "\"\"\"\n",
        "\n",
        "\n",
        "    response = client.chat.completions.create(\n",
        "        model=\"gpt-4\",\n",
        "        messages=[{\"role\": \"user\", \"content\": prompt}],\n",
        "        temperature=0.8\n",
        "    )\n",
        "    return response.choices[0].message.content.strip()\n",
        "\n",
        "# Generate resumes and store in a list\n",
        "resumes = []\n",
        "for i in range(10):  # Generate 10 student resumes\n",
        "    try:\n",
        "        resume_json = generate_student_resume(role=\"Data Scientist\")\n",
        "        resume_dict = json.loads(resume_json)\n",
        "        resumes.append(resume_dict)\n",
        "        print(f\"✅ Generated resume {i+1}\")\n",
        "        time.sleep(1)\n",
        "    except Exception as e:\n",
        "        print(f\"❌ Error at resume {i+1}: {e}\")\n",
        "\n",
        "# Save all to a JSON file\n",
        "with open(\"student_resumes.json\", \"w\", encoding=\"utf-8\") as f:\n",
        "    json.dump(resumes, f, indent=2, ensure_ascii=False)"
      ]
    }
  ]
}