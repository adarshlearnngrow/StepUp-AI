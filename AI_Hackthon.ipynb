{
  "nbformat": 4,
  "nbformat_minor": 0,
  "metadata": {
    "colab": {
      "provenance": [],
      "include_colab_link": true
    },
    "kernelspec": {
      "name": "python3",
      "display_name": "Python 3"
    },
    "language_info": {
      "name": "python"
    }
  },
  "cells": [
    {
      "cell_type": "markdown",
      "metadata": {
        "id": "view-in-github",
        "colab_type": "text"
      },
      "source": [
        "<a href=\"https://colab.research.google.com/github/adarshlearnngrow/StepUp-AI/blob/Base-commit/AI_Hackthon.ipynb\" target=\"_parent\"><img src=\"https://colab.research.google.com/assets/colab-badge.svg\" alt=\"Open In Colab\"/></a>"
      ]
    },
    {
      "cell_type": "code",
      "source": [
        "import openai\n",
        "import json\n",
        "import time\n",
        "from openai import OpenAI\n",
        "from google.colab import userdata\n",
        "import pandas as pd\n"
      ],
      "metadata": {
        "id": "c6GD56XP3tDe"
      },
      "execution_count": null,
      "outputs": []
    },
    {
      "cell_type": "code",
      "source": [
        "pd.set_option('display.max_colwidth', None)\n"
      ],
      "metadata": {
        "id": "QwOoYZu89zMU"
      },
      "execution_count": null,
      "outputs": []
    },
    {
      "cell_type": "code",
      "source": [
        "open_ai_client = OpenAI(api_key=userdata.get(\"OPEN_AI_KEY\"))\n"
      ],
      "metadata": {
        "id": "96G8V6Ca4Ghq"
      },
      "execution_count": null,
      "outputs": []
    },
    {
      "cell_type": "code",
      "execution_count": null,
      "metadata": {
        "colab": {
          "base_uri": "https://localhost:8080/"
        },
        "id": "gtW5TnOW3kG3",
        "outputId": "a99dec5a-ef4c-46d0-9465-5a432df4ef5a"
      },
      "outputs": [
        {
          "output_type": "stream",
          "name": "stdout",
          "text": [
            "✅ Generated 1\n",
            "✅ Generated 2\n",
            "✅ Generated 3\n",
            "✅ Generated 4\n",
            "✅ Generated 5\n"
          ]
        }
      ],
      "source": [
        "def generate_resume_gap_example():\n",
        "    prompt = \"\"\"\n",
        "Generate synthetic data for training a resume-to-job gap detection model.\n",
        "\n",
        "Respond in this JSON format:\n",
        "{\n",
        "  \"input\": {\n",
        "    \"resume\": \"<full resume with sections: education, work experience, personal projects, technical skills, soft skills>\",\n",
        "    \"job_description\": \"<realistic job description>\"\n",
        "  },\n",
        "  \"output\": {\n",
        "    \"missing_skills\": [\"<skill1>\", \"<skill2>\", \"...\"]\n",
        "  }\n",
        "}\n",
        "\n",
        "Ensure:\n",
        "- Resume is realistic and includes relevant but incomplete skills.\n",
        "- Job description targets a specific role (e.g. 'Machine Learning Engineer').\n",
        "- Output contains only truly missing skills not in the resume.\n",
        "Only return valid JSON. No markdown, no explanation.\n",
        "\"\"\"\n",
        "    response = open_ai_client.chat.completions.create(\n",
        "        model=\"gpt-4\",\n",
        "        messages=[{\"role\": \"user\", \"content\": prompt}],\n",
        "        temperature=0.7\n",
        "    )\n",
        "    return response.choices[0].message.content.strip()\n",
        "\n",
        "# Generate dataset\n",
        "output_file = \"resume_gap_dataset.jsonl\"\n",
        "\n",
        "with open(output_file, \"w\") as f:\n",
        "    for i in range(5):  # Generate 100 examples\n",
        "        try:\n",
        "            result = generate_resume_gap_example()\n",
        "            parsed = json.loads(result)  # Ensure it's valid JSON\n",
        "            f.write(json.dumps(parsed) + \"\\n\")\n",
        "            print(f\"✅ Generated {i+1}\")\n",
        "            time.sleep(1)  # avoid rate limit\n",
        "        except json.JSONDecodeError:\n",
        "            print(f\"⚠️ JSON parsing failed at {i+1}, output:\\n{result}\\n\")\n",
        "        except Exception as e:\n",
        "            print(f\"❌ API or file error at {i+1}: {e}\")"
      ]
    }
  ]
}